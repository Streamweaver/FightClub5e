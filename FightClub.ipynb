{
 "cells": [
  {
   "cell_type": "markdown",
   "metadata": {
    "pycharm": {
     "name": "#%% md\n"
    }
   },
   "source": [
    "## 5e Simple Fight Club\n",
    "\n",
    "This is a dead simple set of scripts to run a simulated fight between various monsters and commoners in 5e D&D.\n",
    "This is just a slugfest, with no tactics or anything like that and just for a bit of fun.  I used this script\n",
    "in a [recent livestream](https://youtu.be/gfDZ70DkDWQ) I did on my weekly [DnD Twitch Discussion](https://www.twitch.tv/optionalrule)\n",
    "about [Gritty Healing & Survival in 5e](https://www.optionalrule.com/2021/06/27/gritty-healing-and-survival-rules/)."
   ]
  },
  {
   "cell_type": "code",
   "execution_count": 1,
   "metadata": {},
   "outputs": [],
   "source": [
    "# Ignore this simple travler, this is just some code setup for below.\n",
    "from mobs import BUGBEAR, SKELETON, ZOMBIE, GOBLIN, LIZARDFOLK, COMMONER, VETERAN, GUARD\n",
    "from main import mob_factory\n",
    "from combat import Battle"
   ]
  },
  {
   "cell_type": "markdown",
   "metadata": {},
   "source": [
    "## Arenas\n",
    "I just have a few arenas setup to simulate a fight, you can tell from the method name what monster they are fighting.\n",
    "It comes in the formate of 'Number of monsters vs Number of commoners' and when you hit run, it prints out the log\n",
    "of the fight and it's results."
   ]
  },
  {
   "cell_type": "markdown",
   "source": [
    "### Zombie Attack\n",
    "Just modify the function below with whatever number you want to use. It uses the format 'Number of Monsters' and 'Number\n",
    "of Commoners'.  So zombie_attack(1, 3) is One Zombie, and Three Commoners. Modify that cell and hit RUN above to start\n",
    "the simulation."
   ],
   "metadata": {
    "collapsed": false,
    "pycharm": {
     "name": "#%% md\n"
    }
   }
  },
  {
   "cell_type": "code",
   "execution_count": 4,
   "metadata": {
    "pycharm": {
     "name": "#%%\n"
    }
   },
   "outputs": [
    {
     "name": "stdout",
     "output_type": "stream",
     "text": [
      "Fight starting between villager and monster\n",
      "**** Round 1 - Villager: 7, Monster: 2 ****\n",
      "Commoner_3 (4/4) hits Zombie_2 (22/22) with Club and does 2 damage.\n",
      "Commoner_4 (4/4) hits Zombie_2 (20/22) with Club and does 4 damage.\n",
      "Zombie_2 (16/22) misses Commoner_2 (4/4).\n",
      "Commoner_1 (4/4) hits Zombie_1 (22/22) with Club and does 2 damage.\n",
      "Commoner_7 (4/4) hits Zombie_1 (20/22) with Club and does 4 damage.\n",
      "Commoner_6 (4/4) hits Zombie_1 (16/22) with Club and does 5 damage.\n",
      "Zombie_1 (11/22) CRITS Commoner_2 (4/4) with Slam and does 12 damage. Commoner_2 dies.\n",
      "Commoner_5 (4/4) hits Zombie_1 (11/22) with Club and does 2 damage.\n",
      "**** Round 2 - Villager: 6, Monster: 2 ****\n",
      "Commoner_3 (4/4) hits Zombie_2 (16/22) with Club and does 1 damage.\n",
      "Commoner_4 (4/4) hits Zombie_2 (15/22) with Club and does 4 damage.\n",
      "Zombie_2 (11/22) hits Commoner_5 (4/4) with Slam and does 2 damage.\n",
      "Commoner_1 (4/4) hits Zombie_1 (9/22) with Club and does 6 damage.\n",
      "Commoner_7 (4/4) hits Zombie_1 (3/22) with Club and does 5 damage.\n",
      "Commoner_6 (4/4) hits Zombie_1 (1/22) with Club and does 2 damage.\n",
      "Zombie_1 (1/22) misses Commoner_6 (4/4).\n",
      "Commoner_5 (2/4) hits Zombie_1 (1/22) with Club and does 2 damage.\n",
      "**** Round 3 - Villager: 6, Monster: 2 ****\n",
      "Commoner_3 (4/4) hits Zombie_2 (11/22) with Club and does 1 damage.\n",
      "Commoner_4 (4/4) misses Zombie_2 (10/22).\n",
      "Zombie_2 (10/22) misses Commoner_5 (2/4).\n",
      "Commoner_1 (4/4) misses Zombie_1 (1/22).\n",
      "Commoner_7 (4/4) misses Zombie_1 (1/22).\n",
      "Commoner_6 (4/4) hits Zombie_1 (1/22) with Club and does 6 damage.\n",
      "Zombie_1 (1/22) misses Commoner_6 (4/4).\n",
      "Commoner_5 (2/4) misses Zombie_1 (1/22).\n",
      "**** Round 4 - Villager: 6, Monster: 2 ****\n",
      "Commoner_3 (4/4) hits Zombie_2 (10/22) with Club and does 4 damage.\n",
      "Commoner_4 (4/4) misses Zombie_2 (6/22).\n",
      "Zombie_2 (6/22) hits Commoner_5 (2/4) with Slam and does 4 damage. Commoner_5 dies.\n",
      "Commoner_1 (4/4) misses Zombie_1 (1/22).\n",
      "Commoner_7 (4/4) misses Zombie_1 (1/22).\n",
      "Commoner_6 (4/4) hits Zombie_1 (1/22) with Club and does 6 damage.\n",
      "Zombie_1 (1/22) hits Commoner_6 (4/4) with Slam and does 7 damage. Commoner_6 dies.\n",
      "**** Round 5 - Villager: 4, Monster: 2 ****\n",
      "Commoner_3 (4/4) hits Zombie_2 (6/22) with Club and does 5 damage.\n",
      "Commoner_4 (4/4) hits Zombie_2 (1/22) with Club and does 1 damage.\n",
      "Zombie_2 (1/22) hits Commoner_7 (4/4) with Slam and does 7 damage. Commoner_7 dies.\n",
      "Commoner_1 (4/4) hits Zombie_1 (1/22) with Club and does 1 damage.\n",
      "Zombie_1 (1/22) hits Commoner_1 (4/4) with Slam and does 4 damage. Commoner_1 dies.\n",
      "**** Round 6 - Villager: 2, Monster: 2 ****\n",
      "Commoner_3 (4/4) hits Zombie_2 (1/22) with Club and does 6 damage.\n",
      "Commoner_4 (4/4) hits Zombie_2 (1/22) with Club and does 6 damage.\n",
      "Zombie_2 (1/22) misses Commoner_3 (4/4).\n",
      "Zombie_1 (1/22) hits Commoner_4 (4/4) with Slam and does 6 damage. Commoner_4 dies.\n",
      "**** Round 7 - Villager: 1, Monster: 2 ****\n",
      "Commoner_3 (4/4) CRITS Zombie_2 (1/22) with Club and does 5 damage. Zombie_2 dies.\n",
      "Zombie_1 (1/22) hits Commoner_3 (4/4) with Slam and does 2 damage.\n",
      "**** Round 8 - Villager: 1, Monster: 1 ****\n",
      "Commoner_3 (2/4) hits Zombie_1 (1/22) with Club and does 4 damage.\n",
      "Zombie_1 (1/22) hits Commoner_3 (2/4) with Slam and does 6 damage. Commoner_3 dies.\n",
      "Winner: monster, with 1 alive\n"
     ]
    },
    {
     "data": {
      "text/plain": "{'winning_faction': 'monster', 'survivors': 1}"
     },
     "execution_count": 4,
     "metadata": {},
     "output_type": "execute_result"
    }
   ],
   "source": [
    "z_battle = Battle(mob_factory(ZOMBIE, 2) + mob_factory(COMMONER, 7))\n",
    "z_battle.start_fight()"
   ]
  },
  {
   "cell_type": "markdown",
   "source": [
    "### Town Guard\n",
    "Let's change up the fight above and see what happens with a fight against some town guard instead."
   ],
   "metadata": {
    "collapsed": false
   }
  },
  {
   "cell_type": "code",
   "execution_count": 13,
   "metadata": {},
   "outputs": [
    {
     "name": "stdout",
     "output_type": "stream",
     "text": [
      "Fight starting between villager and monster\n",
      "**** Round 1 - Villager: 3, Monster: 2 ****\n",
      "Guard_1 (11/11) misses Zombie_1 (22/22).\n",
      "Guard_3 (11/11) hits Zombie_1 (22/22) with Spear and does 4 damage.\n",
      "Zombie_2 (22/22) misses Guard_3 (11/11).\n",
      "Guard_2 (11/11) hits Zombie_1 (18/22) with Spear and does 7 damage.\n",
      "Zombie_1 (11/22) misses Guard_1 (11/11).\n",
      "**** Round 2 - Villager: 3, Monster: 2 ****\n",
      "Guard_1 (11/11) hits Zombie_1 (11/22) with Spear and does 7 damage.\n",
      "Guard_3 (11/11) hits Zombie_1 (4/22) with Spear and does 2 damage.\n",
      "Zombie_2 (22/22) CRITS Guard_3 (11/11) with Slam and does 7 damage.\n",
      "Guard_2 (11/11) hits Zombie_1 (2/22) with Spear and does 5 damage.\n",
      "Zombie_1 (1/22) misses Guard_1 (11/11).\n",
      "**** Round 3 - Villager: 3, Monster: 2 ****\n",
      "Guard_1 (11/11) hits Zombie_1 (1/22) with Spear and does 3 damage.\n",
      "Guard_3 (4/11) hits Zombie_1 (1/22) with Spear and does 3 damage. Zombie_1 dies.\n",
      "Zombie_2 (22/22) hits Guard_3 (4/11) with Slam and does 6 damage. Guard_3 dies.\n",
      "**** Round 4 - Villager: 2, Monster: 1 ****\n",
      "Guard_1 (11/11) hits Zombie_2 (22/22) with Spear and does 2 damage.\n",
      "Zombie_2 (20/22) misses Guard_2 (11/11).\n",
      "Guard_2 (11/11) hits Zombie_2 (20/22) with Spear and does 4 damage.\n",
      "**** Round 5 - Villager: 2, Monster: 1 ****\n",
      "Guard_1 (11/11) misses Zombie_2 (16/22).\n",
      "Zombie_2 (16/22) hits Guard_2 (11/11) with Slam and does 3 damage.\n",
      "Guard_2 (8/11) misses Zombie_2 (16/22).\n",
      "**** Round 6 - Villager: 2, Monster: 1 ****\n",
      "Guard_1 (11/11) misses Zombie_2 (16/22).\n",
      "Zombie_2 (16/22) hits Guard_2 (8/11) with Slam and does 4 damage.\n",
      "Guard_2 (4/11) hits Zombie_2 (16/22) with Spear and does 3 damage.\n",
      "**** Round 7 - Villager: 2, Monster: 1 ****\n",
      "Guard_1 (11/11) hits Zombie_2 (13/22) with Spear and does 2 damage.\n",
      "Zombie_2 (11/22) CRITS Guard_2 (4/11) with Slam and does 9 damage. Guard_2 dies.\n",
      "**** Round 8 - Villager: 1, Monster: 1 ****\n",
      "Guard_1 (11/11) hits Zombie_2 (11/22) with Spear and does 3 damage.\n",
      "Zombie_2 (8/22) misses Guard_1 (11/11).\n",
      "**** Round 9 - Villager: 1, Monster: 1 ****\n",
      "Guard_1 (11/11) hits Zombie_2 (8/22) with Spear and does 7 damage.\n",
      "Zombie_2 (1/22) hits Guard_1 (11/11) with Slam and does 7 damage.\n",
      "**** Round 10 - Villager: 1, Monster: 1 ****\n",
      "Guard_1 (4/11) misses Zombie_2 (1/22).\n",
      "Zombie_2 (1/22) hits Guard_1 (4/11) with Slam and does 2 damage.\n",
      "**** Round 11 - Villager: 1, Monster: 1 ****\n",
      "Guard_1 (2/11) misses Zombie_2 (1/22).\n",
      "Zombie_2 (1/22) misses Guard_1 (2/11).\n",
      "**** Round 12 - Villager: 1, Monster: 1 ****\n",
      "Guard_1 (2/11) hits Zombie_2 (1/22) with Spear and does 4 damage.\n",
      "Zombie_2 (1/22) hits Guard_1 (2/11) with Slam and does 4 damage. Guard_1 dies.\n",
      "Winner: monster, with 1 alive\n"
     ]
    },
    {
     "data": {
      "text/plain": "{'winning_faction': 'monster', 'survivors': 1}"
     },
     "execution_count": 13,
     "metadata": {},
     "output_type": "execute_result"
    }
   ],
   "source": [
    "gz_battle = Battle(mob_factory(ZOMBIE, 2) + mob_factory(GUARD, 3))\n",
    "gz_battle.start_fight()"
   ]
  },
  {
   "cell_type": "markdown",
   "source": [
    "### Goblinoid Attack\n",
    "Just modify the function below with whatever number you want to use. It uses the format 'Number of Monsters' and 'Number\n",
    "of Commoners'.  So bugbear_attack(3, 12) is Three Bugbears, and Twelve Commoners. Modify that cell and hit RUN above to start\n",
    "the simulation."
   ],
   "metadata": {
    "collapsed": false
   }
  },
  {
   "cell_type": "code",
   "execution_count": 26,
   "metadata": {
    "pycharm": {
     "name": "#%%\n"
    }
   },
   "outputs": [
    {
     "name": "stdout",
     "output_type": "stream",
     "text": [
      "Fight starting between villager and monster\n",
      "**** Round 1 - Villager: 4, Monster: 8 ****\n",
      "Veteran_1 (58/58) misses Goblin_4 (7/7).\n",
      "Veteran_1 (58/58) misses Goblin_4 (7/7).\n",
      "Veteran_1 (58/58) misses Goblin_4 (7/7).\n",
      "Bugbear_1 (27/27) hits Guard_3 (11/11) with Morningstar and does 8 damage.\n",
      "Goblin_1 (7/7) misses Guard_1 (11/11).\n",
      "Goblin_5 (7/7) hits Guard_3 (3/11) with Scimitar and does 4 damage. Guard_3 dies.\n",
      "Guard_1 (11/11) misses Goblin_2 (7/7).\n",
      "Guard_2 (11/11) hits Bugbear_1 (27/27) with Spear and does 3 damage.\n",
      "Goblin_3 (7/7) misses Guard_2 (11/11).\n",
      "Goblin_6 (7/7) misses Guard_2 (11/11).\n",
      "Goblin_2 (7/7) misses Veteran_1 (58/58).\n",
      "Goblin_7 (7/7) misses Guard_1 (11/11).\n",
      "Goblin_4 (7/7) hits Veteran_1 (58/58) with Scimitar and does 4 damage.\n",
      "**** Round 2 - Villager: 3, Monster: 8 ****\n",
      "Veteran_1 (54/58) hits Goblin_4 (7/7) with Longsword and does 11 damage. Goblin_4 dies.\n",
      "Veteran_1 (54/58) hits Goblin_5 (7/7) with Longsword and does 9 damage. Goblin_5 dies.\n",
      "Veteran_1 (54/58) hits Goblin_7 (7/7) with Shortsword and does 5 damage.\n",
      "Bugbear_1 (24/27) misses Guard_1 (11/11).\n",
      "Goblin_1 (7/7) misses Guard_1 (11/11).\n",
      "Guard_1 (11/11) CRITS Goblin_2 (7/7) with Spear and does 5 damage.\n",
      "Guard_2 (11/11) misses Bugbear_1 (24/27).\n",
      "Goblin_3 (7/7) misses Guard_2 (11/11).\n",
      "Goblin_6 (7/7) misses Guard_2 (11/11).\n",
      "Goblin_2 (2/7) hits Veteran_1 (54/58) with Scimitar and does 6 damage.\n",
      "Goblin_7 (2/7) misses Guard_1 (11/11).\n",
      "**** Round 3 - Villager: 3, Monster: 6 ****\n",
      "Veteran_1 (48/58) misses Goblin_7 (2/7).\n",
      "Veteran_1 (48/58) hits Goblin_7 (2/7) with Longsword and does 6 damage. Goblin_7 dies.\n",
      "Veteran_1 (48/58) misses Bugbear_1 (24/27).\n",
      "Bugbear_1 (24/27) misses Guard_1 (11/11).\n",
      "Goblin_1 (7/7) misses Guard_1 (11/11).\n",
      "Guard_1 (11/11) hits Goblin_2 (2/7) with Spear and does 7 damage. Goblin_2 dies.\n",
      "Guard_2 (11/11) misses Bugbear_1 (24/27).\n",
      "Goblin_3 (7/7) misses Guard_2 (11/11).\n",
      "Goblin_6 (7/7) hits Guard_2 (11/11) with Scimitar and does 5 damage.\n",
      "**** Round 4 - Villager: 3, Monster: 4 ****\n",
      "Veteran_1 (48/58) hits Bugbear_1 (24/27) with Longsword and does 7 damage.\n",
      "Veteran_1 (48/58) hits Bugbear_1 (17/27) with Longsword and does 9 damage.\n",
      "Veteran_1 (48/58) hits Bugbear_1 (8/27) with Shortsword and does 4 damage.\n",
      "Bugbear_1 (4/27) hits Guard_1 (11/11) with Morningstar and does 16 damage. Guard_1 dies.\n",
      "Goblin_1 (7/7) misses Veteran_1 (48/58).\n",
      "Guard_2 (6/11) misses Bugbear_1 (4/27).\n",
      "Goblin_3 (7/7) hits Guard_2 (6/11) with Scimitar and does 7 damage. Guard_2 dies.\n",
      "**** Round 5 - Villager: 1, Monster: 4 ****\n",
      "Veteran_1 (48/58) misses Bugbear_1 (4/27).\n",
      "Veteran_1 (48/58) CRITS Bugbear_1 (4/27) with Longsword and does 14 damage. Bugbear_1 dies.\n",
      "Veteran_1 (48/58) hits Goblin_1 (7/7) with Shortsword and does 5 damage.\n",
      "Goblin_1 (2/7) hits Veteran_1 (48/58) with Scimitar and does 3 damage.\n",
      "Goblin_3 (7/7) misses Veteran_1 (45/58).\n",
      "Goblin_6 (7/7) misses Veteran_1 (45/58).\n",
      "**** Round 6 - Villager: 1, Monster: 3 ****\n",
      "Veteran_1 (45/58) hits Goblin_1 (2/7) with Longsword and does 8 damage. Goblin_1 dies.\n",
      "Veteran_1 (45/58) hits Goblin_3 (7/7) with Longsword and does 8 damage. Goblin_3 dies.\n",
      "Veteran_1 (45/58) misses Goblin_6 (7/7).\n",
      "Goblin_6 (7/7) CRITS Veteran_1 (45/58) with Scimitar and does 10 damage.\n",
      "**** Round 7 - Villager: 1, Monster: 1 ****\n",
      "Veteran_1 (35/58) misses Goblin_6 (7/7).\n",
      "Veteran_1 (35/58) hits Goblin_6 (7/7) with Longsword and does 5 damage.\n",
      "Veteran_1 (35/58) hits Goblin_6 (2/7) with Shortsword and does 6 damage. Goblin_6 dies.\n",
      "Winner: villager, with 1 alive\n"
     ]
    },
    {
     "data": {
      "text/plain": "{'winning_faction': 'villager', 'survivors': 1}"
     },
     "execution_count": 26,
     "metadata": {},
     "output_type": "execute_result"
    }
   ],
   "source": [
    "goblinoids = mob_factory(BUGBEAR, 1) + mob_factory(GOBLIN, 7)\n",
    "villagers = mob_factory(VETERAN, 1) + mob_factory(GUARD, 3)\n",
    "# Turning off the swing by swing text to the screen is readable.\n",
    "g_battle = Battle(goblinoids + villagers)\n",
    "g_battle.start_fight()\n",
    "\n"
   ]
  }
 ],
 "metadata": {
  "kernelspec": {
   "display_name": "Python 3",
   "language": "python",
   "name": "python3"
  },
  "language_info": {
   "codemirror_mode": {
    "name": "ipython",
    "version": 3
   },
   "file_extension": ".py",
   "mimetype": "text/x-python",
   "name": "python",
   "nbconvert_exporter": "python",
   "pygments_lexer": "ipython3",
   "version": "3.9.5"
  }
 },
 "nbformat": 4,
 "nbformat_minor": 1
}