{
 "cells": [
  {
   "cell_type": "markdown",
   "metadata": {
    "pycharm": {
     "name": "#%% md\n"
    }
   },
   "source": [
    "## 5e Simple Fight Club\n",
    "\n",
    "This is a dead simple set of scripts to run a simulated fight between various monsters and commoners in 5e D&D.\n",
    "This is just a slugfest, with no tactics or anything like that and just for a bit of fun.  I used this script\n",
    "in a [recent livestream](https://youtu.be/gfDZ70DkDWQ) I did on my weekly [DnD Twitch Discussion](https://www.twitch.tv/optionalrule)\n",
    "about Survival and Gritty Realism.  I'll be posting that as a blog post up on https://www.optionalrule.com later this week.\n",
    "(It's currently June 26th, 2021 so it may be up already)"
   ]
  },
  {
   "cell_type": "code",
   "execution_count": 23,
   "metadata": {},
   "outputs": [],
   "source": [
    "# Ignore this simple travler, this is just some code setup for below.\n",
    "from main import zombie_attack, skeleton_attack, bugbear_attack"
   ]
  },
  {
   "cell_type": "markdown",
   "metadata": {},
   "source": [
    "## Arenas\n",
    "I just have a few arenas setup to simulate a fight, you can tell from the method name what monster they are fighting.\n",
    "It comes in the formate of 'Number of monsters vs Number of commoners' and when you hit run, it prints out the log\n",
    "of the fight and it's results."
   ]
  },
  {
   "cell_type": "markdown",
   "source": [
    "### Zombie Attack\n",
    "Just modify the function below with whatever number you want to use. It uses the format 'Number of Monsters' and 'Number\n",
    "of Commoners'.  So zombie_attack(1, 3) is One Zombie, and Three Commoners. Modify that cell and hit RUN above to start\n",
    "the simulation."
   ],
   "metadata": {
    "collapsed": false,
    "pycharm": {
     "name": "#%% md\n"
    }
   }
  },
  {
   "cell_type": "code",
   "execution_count": 24,
   "metadata": {
    "pycharm": {
     "name": "#%%\n"
    }
   },
   "outputs": [
    {
     "name": "stdout",
     "output_type": "stream",
     "text": [
      "Fight starting between villager and monster\n",
      "**** Round 1 - Villager: 3, Monster: 1 ****\n",
      "Commoner_3 (4/4) hits Zombie_1 (22/22) with Club and does 5 damage.\n",
      "Commoner_2 (4/4) hits Zombie_1 (17/22) with Club and does 4 damage.\n",
      "Zombie_1 (13/22) hits Commoner_3 (4/4) with Slam and does 3 damage.\n",
      "Commoner_1 (4/4) hits Zombie_1 (13/22) with Club and does 2 damage.\n",
      "**** Round 2 - Villager: 3, Monster: 1 ****\n",
      "Commoner_3 (1/4) misses Zombie_1 (11/22).\n",
      "Commoner_2 (4/4) hits Zombie_1 (11/22) with Club and does 4 damage.\n",
      "Zombie_1 (7/22) hits Commoner_3 (1/4) with Slam and does 5 damage. Commoner_3 dies.\n",
      "**** Round 3 - Villager: 2, Monster: 1 ****\n",
      "Commoner_2 (4/4) hits Zombie_1 (7/22) with Club and does 3 damage.\n",
      "Zombie_1 (4/22) hits Commoner_1 (4/4) with Slam and does 3 damage.\n",
      "Commoner_1 (1/4) misses Zombie_1 (4/22).\n",
      "**** Round 4 - Villager: 2, Monster: 1 ****\n",
      "Commoner_2 (4/4) hits Zombie_1 (4/22) with Club and does 3 damage.\n",
      "Zombie_1 (1/22) hits Commoner_1 (1/4) with Slam and does 5 damage. Commoner_1 dies.\n",
      "**** Round 5 - Villager: 1, Monster: 1 ****\n",
      "Commoner_2 (4/4) misses Zombie_1 (1/22).\n",
      "Zombie_1 (1/22) CRITS Commoner_2 (4/4) with Slam and does 8 damage. Commoner_2 dies.\n",
      "Winner: monster, with 1 alive\n"
     ]
    }
   ],
   "source": [
    "zombie_attack(1, 3)"
   ]
  },
  {
   "cell_type": "markdown",
   "source": [
    "### Skeleton Attack\n",
    "Just modify the function below with whatever number you want to use. It uses the format 'Number of Monsters' and 'Number\n",
    "of Commoners'.  So skeleton_attack(3, 9) is Three Skeleton, and Nine Commoners. Modify that cell and hit RUN above to start\n",
    "the simulation."
   ],
   "metadata": {
    "collapsed": false
   }
  },
  {
   "cell_type": "code",
   "execution_count": 25,
   "metadata": {},
   "outputs": [
    {
     "name": "stdout",
     "output_type": "stream",
     "text": [
      "Fight starting between villager and monster\n",
      "**** Round 1 - Monster: 3, Villager: 9 ****\n",
      "Skeleton_2 (13/13) misses Commoner_6 (4/4).\n",
      "Commoner_2 (4/4) misses Skeleton_2 (13/13).\n",
      "Commoner_4 (4/4) hits Skeleton_1 (13/13) with Club and does 2 damage.\n",
      "Commoner_9 (4/4) misses Skeleton_3 (13/13).\n",
      "Commoner_6 (4/4) hits Skeleton_3 (13/13) with Club and does 4 damage.\n",
      "Commoner_7 (4/4) CRITS Skeleton_3 (9/13) with Club and does 8 damage.\n",
      "Skeleton_3 (1/13) misses Commoner_8 (4/4).\n",
      "Commoner_5 (4/4) hits Skeleton_3 (1/13) with Club and does 3 damage. Skeleton_3 dies.\n",
      "Commoner_1 (4/4) hits Skeleton_2 (13/13) with Club and does 6 damage.\n",
      "Commoner_3 (4/4) misses Skeleton_1 (11/13).\n",
      "Commoner_8 (4/4) hits Skeleton_1 (11/13) with Club and does 3 damage.\n",
      "**** Round 2 - Monster: 2, Villager: 9 ****\n",
      "Skeleton_2 (7/13) misses Commoner_6 (4/4).\n",
      "Commoner_2 (4/4) misses Skeleton_2 (7/13).\n",
      "Commoner_4 (4/4) hits Skeleton_1 (8/13) with Club and does 2 damage.\n",
      "Commoner_9 (4/4) misses Skeleton_2 (7/13).\n",
      "Commoner_6 (4/4) misses Skeleton_1 (6/13).\n",
      "Commoner_7 (4/4) hits Skeleton_1 (6/13) with Club and does 1 damage.\n",
      "Commoner_5 (4/4) hits Skeleton_1 (5/13) with Club and does 3 damage.\n",
      "Skeleton_1 (2/13) hits Commoner_2 (4/4) with Shortsword and does 8 damage. Commoner_2 dies.\n",
      "Commoner_3 (4/4) misses Skeleton_1 (2/13).\n",
      "Commoner_8 (4/4) misses Skeleton_1 (2/13).\n",
      "**** Round 3 - Monster: 2, Villager: 8 ****\n",
      "Skeleton_2 (7/13) hits Commoner_6 (4/4) with Shortsword and does 8 damage. Commoner_6 dies.\n",
      "Commoner_4 (4/4) misses Skeleton_1 (2/13).\n",
      "Commoner_9 (4/4) hits Skeleton_2 (7/13) with Club and does 4 damage.\n",
      "Commoner_7 (4/4) misses Skeleton_1 (2/13).\n",
      "Commoner_5 (4/4) misses Skeleton_1 (2/13).\n",
      "Skeleton_1 (2/13) misses Commoner_9 (4/4).\n",
      "Commoner_1 (4/4) misses Skeleton_2 (3/13).\n",
      "Commoner_3 (4/4) hits Skeleton_1 (2/13) with Club and does 2 damage. Skeleton_1 dies.\n",
      "**** Round 4 - Monster: 1, Villager: 7 ****\n",
      "Skeleton_2 (3/13) misses Commoner_3 (4/4).\n",
      "Commoner_4 (4/4) misses Skeleton_2 (3/13).\n",
      "Commoner_9 (4/4) hits Skeleton_2 (3/13) with Club and does 6 damage. Skeleton_2 dies.\n",
      "Winner: villager, with 7 alive\n"
     ]
    }
   ],
   "source": [
    "skeleton_attack(3, 9)"
   ]
  },
  {
   "cell_type": "markdown",
   "source": [
    "### Bugbear Attack\n",
    "Just modify the function below with whatever number you want to use. It uses the format 'Number of Monsters' and 'Number\n",
    "of Commoners'.  So bugbear_attack(3, 12) is Three Bugbears, and Twelve Commoners. Modify that cell and hit RUN above to start\n",
    "the simulation."
   ],
   "metadata": {
    "collapsed": false
   }
  },
  {
   "cell_type": "code",
   "execution_count": 26,
   "metadata": {
    "pycharm": {
     "name": "#%%\n"
    }
   },
   "outputs": [
    {
     "name": "stdout",
     "output_type": "stream",
     "text": [
      "Fight starting between villager and monster\n",
      "**** Round 1 - Villager: 12, Monster: 3 ****\n",
      "Commoner_6 (4/4) misses Bugbear_3 (27/27).\n",
      "Commoner_1 (4/4) hits Bugbear_3 (27/27) with Club and does 2 damage.\n",
      "Commoner_10 (4/4) misses Bugbear_2 (27/27).\n",
      "Bugbear_3 (25/27) hits Commoner_2 (4/4) with Morningstar and does 15 damage. Commoner_2 dies.\n",
      "Bugbear_1 (27/27) hits Commoner_8 (4/4) with Morningstar and does 10 damage. Commoner_8 dies.\n",
      "Commoner_7 (4/4) hits Bugbear_1 (27/27) with Club and does 6 damage.\n",
      "Commoner_11 (4/4) hits Bugbear_1 (21/27) with Club and does 6 damage.\n",
      "Commoner_3 (4/4) misses Bugbear_3 (25/27).\n",
      "Commoner_5 (4/4) hits Bugbear_3 (25/27) with Club and does 4 damage.\n",
      "Commoner_9 (4/4) misses Bugbear_3 (21/27).\n",
      "Commoner_12 (4/4) hits Bugbear_1 (15/27) with Club and does 4 damage.\n",
      "Commoner_4 (4/4) misses Bugbear_3 (21/27).\n",
      "Bugbear_2 (27/27) hits Commoner_9 (4/4) with Morningstar and does 7 damage. Commoner_9 dies.\n",
      "**** Round 2 - Villager: 9, Monster: 3 ****\n",
      "Commoner_6 (4/4) misses Bugbear_3 (21/27).\n",
      "Commoner_1 (4/4) hits Bugbear_3 (21/27) with Club and does 6 damage.\n",
      "Commoner_10 (4/4) misses Bugbear_2 (27/27).\n",
      "Bugbear_3 (15/27) misses Commoner_1 (4/4).\n",
      "Bugbear_1 (11/27) hits Commoner_10 (4/4) with Morningstar and does 16 damage. Commoner_10 dies.\n",
      "Commoner_11 (4/4) hits Bugbear_1 (11/27) with Club and does 4 damage.\n",
      "Commoner_3 (4/4) hits Bugbear_3 (15/27) with Club and does 5 damage.\n",
      "Commoner_5 (4/4) hits Bugbear_3 (10/27) with Club and does 5 damage.\n",
      "Commoner_12 (4/4) misses Bugbear_1 (7/27).\n",
      "Commoner_4 (4/4) misses Bugbear_3 (5/27).\n",
      "Bugbear_2 (27/27) hits Commoner_3 (4/4) with Morningstar and does 14 damage. Commoner_3 dies.\n",
      "**** Round 3 - Villager: 7, Monster: 3 ****\n",
      "Commoner_6 (4/4) CRITS Bugbear_3 (5/27) with Club and does 7 damage. Bugbear_3 dies.\n",
      "Commoner_1 (4/4) hits Bugbear_1 (7/27) with Club and does 4 damage.\n",
      "Bugbear_1 (3/27) hits Commoner_4 (4/4) with Morningstar and does 10 damage. Commoner_4 dies.\n",
      "Commoner_7 (4/4) hits Bugbear_1 (3/27) with Club and does 2 damage.\n",
      "Commoner_11 (4/4) misses Bugbear_1 (1/27).\n",
      "Commoner_5 (4/4) misses Bugbear_1 (1/27).\n",
      "Commoner_12 (4/4) hits Bugbear_1 (1/27) with Club and does 6 damage. Bugbear_1 dies.\n",
      "**** Round 4 - Villager: 6, Monster: 1 ****\n",
      "Commoner_6 (4/4) hits Bugbear_2 (27/27) with Club and does 1 damage.\n",
      "Commoner_1 (4/4) misses Bugbear_2 (26/27).\n",
      "Commoner_7 (4/4) hits Bugbear_2 (26/27) with Club and does 5 damage.\n",
      "Commoner_11 (4/4) misses Bugbear_2 (21/27).\n",
      "Commoner_5 (4/4) misses Bugbear_2 (21/27).\n",
      "Commoner_12 (4/4) misses Bugbear_2 (21/27).\n",
      "Bugbear_2 (21/27) misses Commoner_5 (4/4).\n",
      "**** Round 5 - Villager: 6, Monster: 1 ****\n",
      "Commoner_6 (4/4) misses Bugbear_2 (21/27).\n",
      "Commoner_1 (4/4) misses Bugbear_2 (21/27).\n",
      "Commoner_7 (4/4) misses Bugbear_2 (21/27).\n",
      "Commoner_11 (4/4) CRITS Bugbear_2 (21/27) with Club and does 4 damage.\n",
      "Commoner_5 (4/4) misses Bugbear_2 (17/27).\n",
      "Commoner_12 (4/4) misses Bugbear_2 (17/27).\n",
      "Bugbear_2 (17/27) hits Commoner_5 (4/4) with Morningstar and does 14 damage. Commoner_5 dies.\n",
      "**** Round 6 - Villager: 5, Monster: 1 ****\n",
      "Commoner_6 (4/4) misses Bugbear_2 (17/27).\n",
      "Commoner_1 (4/4) misses Bugbear_2 (17/27).\n",
      "Commoner_7 (4/4) misses Bugbear_2 (17/27).\n",
      "Commoner_11 (4/4) misses Bugbear_2 (17/27).\n",
      "Commoner_12 (4/4) misses Bugbear_2 (17/27).\n",
      "Bugbear_2 (17/27) misses Commoner_7 (4/4).\n",
      "**** Round 7 - Villager: 5, Monster: 1 ****\n",
      "Commoner_6 (4/4) CRITS Bugbear_2 (17/27) with Club and does 6 damage.\n",
      "Commoner_1 (4/4) misses Bugbear_2 (11/27).\n",
      "Commoner_7 (4/4) misses Bugbear_2 (11/27).\n",
      "Commoner_11 (4/4) hits Bugbear_2 (11/27) with Club and does 5 damage.\n",
      "Commoner_12 (4/4) hits Bugbear_2 (6/27) with Club and does 6 damage. Bugbear_2 dies.\n",
      "Winner: villager, with 5 alive\n"
     ]
    }
   ],
   "source": [
    "bugbear_attack(3, 12)\n",
    "\n"
   ]
  }
 ],
 "metadata": {
  "kernelspec": {
   "display_name": "Python 3",
   "language": "python",
   "name": "python3"
  },
  "language_info": {
   "codemirror_mode": {
    "name": "ipython",
    "version": 3
   },
   "file_extension": ".py",
   "mimetype": "text/x-python",
   "name": "python",
   "nbconvert_exporter": "python",
   "pygments_lexer": "ipython3",
   "version": "3.9.5"
  }
 },
 "nbformat": 4,
 "nbformat_minor": 1
}